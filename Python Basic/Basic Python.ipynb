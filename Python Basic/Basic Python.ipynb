{
 "cells": [
  {
   "cell_type": "markdown",
   "metadata": {},
   "source": [
    "# Python Basics"
   ]
  },
  {
   "cell_type": "markdown",
   "metadata": {},
   "source": [
    "## Basic Linear Algebra"
   ]
  },
  {
   "cell_type": "markdown",
   "metadata": {},
   "source": [
    "### What is Scalar?\n",
    "Scalar is a any number like 1, 2, 23 , 2.3.\n",
    "<br>\n",
    "**Zero Dimension Tensor** is Scalar"
   ]
  },
  {
   "cell_type": "markdown",
   "metadata": {},
   "source": [
    "### What is Vector?\n",
    "Vector is a group of scalar but with homogeneous datatype like (1,2,3), (2.3,1.5,1.0)\n",
    "<br>\n",
    "**One Dimension Tensor** is Vector"
   ]
  },
  {
   "cell_type": "markdown",
   "metadata": {},
   "source": [
    ">**Vector can be easily confused with Tuples**"
   ]
  },
  {
   "cell_type": "markdown",
   "metadata": {},
   "source": [
    "### What is Tuple?\n",
    "Tuples is group of scalar with different datatypes like (1,2.3,5,6.3), (8.5,0,3)"
   ]
  },
  {
   "cell_type": "markdown",
   "metadata": {},
   "source": [
    "### What is Matrix?\n",
    "Matrix is basicilly a list of equal sized vectors\n",
    "<br>\n",
    "[(1,2,3)\n",
    "(4,5,6)\n",
    "(7,8,9)]\n",
    "<br>\n",
    "**Two Dimension Tensor** is Matrix"
   ]
  },
  {
   "cell_type": "markdown",
   "metadata": {},
   "source": [
    "# Data Structures\n",
    "<ol>\n",
    "<li>Lists</li>\n",
    "<li>Sets</li>\n",
    "<li>Tuples</li>\n",
    "<li>Dictionaries</li>\n",
    "</ol>"
   ]
  },
  {
   "cell_type": "markdown",
   "metadata": {},
   "source": [
    "## Lists\n",
    "A list is a data structure in Python that is a mutable, or changeable,or ordered sequence of elements. Each element or value that is inside of a list is called an item. Just as strings are defined as characters between quotes, lists are defined by having values between square brackets [ ]"
   ]
  },
  {
   "cell_type": "code",
   "execution_count": 75,
   "metadata": {},
   "outputs": [
    {
     "name": "stdout",
     "output_type": "stream",
     "text": [
      "[1, 2, 3]\n"
     ]
    }
   ],
   "source": [
    "l=[1, 2, 3]\n",
    "print(l)"
   ]
  },
  {
   "cell_type": "code",
   "execution_count": 18,
   "metadata": {},
   "outputs": [
    {
     "data": {
      "text/plain": [
       "list"
      ]
     },
     "execution_count": 18,
     "metadata": {},
     "output_type": "execute_result"
    }
   ],
   "source": [
    "type(l)"
   ]
  },
  {
   "cell_type": "code",
   "execution_count": 74,
   "metadata": {},
   "outputs": [
    {
     "name": "stdout",
     "output_type": "stream",
     "text": [
      "['m', 'data science', 0, 2.3, False]\n"
     ]
    }
   ],
   "source": [
    "k=list()\n",
    "k=['m', 'data science', 0, 2.3, False]\n",
    "print(k)"
   ]
  },
  {
   "cell_type": "code",
   "execution_count": 23,
   "metadata": {},
   "outputs": [
    {
     "data": {
      "text/plain": [
       "list"
      ]
     },
     "execution_count": 23,
     "metadata": {},
     "output_type": "execute_result"
    }
   ],
   "source": [
    "type(k)"
   ]
  },
  {
   "cell_type": "markdown",
   "metadata": {},
   "source": [
    "### List Methods\n",
    "<ol>\n",
    "    <li>append()\tAdds an element at the end of the list</li>\n",
    "    <li>clear()\tRemoves all the elements from the list</li>\n",
    "    <li>copy()\tReturns a copy of the list</li>\n",
    "    <li>count()\tReturns the number of elements with the specified value</li>\n",
    "    <li>extend()\tAdd the elements of a list (or any iterable), to the end of the current list</li>\n",
    "    <li>index()\tReturns the index of the first element with the specified value</li>\n",
    "    <li>insert()\tAdds an element at the specified position</li>\n",
    "    <li>pop()\tRemoves the element at the specified position</li>\n",
    "    <li>remove()\tRemoves the first item with the specified value</li>\n",
    "    <li>reverse()\tReverses the order of the list</li>\n",
    "    <li>sort()\tSorts the list</li>\n",
    "    <li>len() Finds the size of list</li>\n",
    "</ol>"
   ]
  },
  {
   "cell_type": "code",
   "execution_count": 32,
   "metadata": {},
   "outputs": [],
   "source": [
    "h=[]"
   ]
  },
  {
   "cell_type": "code",
   "execution_count": 33,
   "metadata": {},
   "outputs": [
    {
     "name": "stdout",
     "output_type": "stream",
     "text": [
      "[3, 'machine learning']\n",
      "2\n"
     ]
    }
   ],
   "source": [
    "h.append(3)\n",
    "h.append('machine learning')\n",
    "print(h)\n",
    "print(len(h))"
   ]
  },
  {
   "cell_type": "code",
   "execution_count": 39,
   "metadata": {},
   "outputs": [
    {
     "name": "stdout",
     "output_type": "stream",
     "text": [
      "[]\n",
      "0\n"
     ]
    }
   ],
   "source": [
    "h.clear()\n",
    "print(h)\n",
    "print(len(h))"
   ]
  },
  {
   "cell_type": "code",
   "execution_count": 59,
   "metadata": {},
   "outputs": [
    {
     "name": "stdout",
     "output_type": "stream",
     "text": [
      "[25, 'hi', ['other list'], 'hi']\n",
      "[25, 'hi', ['other list'], 'hi']\n"
     ]
    }
   ],
   "source": [
    "h.append(['other list'])\n",
    "h.append('hi')\n",
    "b=h.copy()\n",
    "print(h)\n",
    "print(b)"
   ]
  },
  {
   "cell_type": "code",
   "execution_count": 41,
   "metadata": {},
   "outputs": [
    {
     "name": "stdout",
     "output_type": "stream",
     "text": [
      "2\n"
     ]
    }
   ],
   "source": [
    "company = ['apple', 'google', 'facebook', 'google']\n",
    "print(company.count('google'))"
   ]
  },
  {
   "cell_type": "code",
   "execution_count": 44,
   "metadata": {},
   "outputs": [
    {
     "name": "stdout",
     "output_type": "stream",
     "text": [
      "['apple', 'google', 'facebook', 'red', 'blue', 'green']\n",
      "['red', 'blue', 'green']\n"
     ]
    }
   ],
   "source": [
    "color = ['red', 'blue', 'green']\n",
    "company.extend(color)\n",
    "print(company)\n",
    "print(color)"
   ]
  },
  {
   "cell_type": "code",
   "execution_count": 46,
   "metadata": {},
   "outputs": [
    {
     "data": {
      "text/plain": [
       "2"
      ]
     },
     "execution_count": 46,
     "metadata": {},
     "output_type": "execute_result"
    }
   ],
   "source": [
    "color.index('green')"
   ]
  },
  {
   "cell_type": "code",
   "execution_count": 48,
   "metadata": {},
   "outputs": [
    {
     "name": "stdout",
     "output_type": "stream",
     "text": [
      "['pink', 'red', 'blue', 'green']\n"
     ]
    }
   ],
   "source": [
    "color.insert(0,'pink')\n",
    "print(color)"
   ]
  },
  {
   "cell_type": "code",
   "execution_count": 49,
   "metadata": {},
   "outputs": [
    {
     "name": "stdout",
     "output_type": "stream",
     "text": [
      "['google', 'facebook', 'red', 'blue', 'green']\n"
     ]
    }
   ],
   "source": [
    "company.pop(0)\n",
    "print(company)"
   ]
  },
  {
   "cell_type": "code",
   "execution_count": 51,
   "metadata": {},
   "outputs": [
    {
     "name": "stdout",
     "output_type": "stream",
     "text": [
      "['google', 'facebook', 'blue', 'green']\n"
     ]
    }
   ],
   "source": [
    "company.remove('red')\n",
    "print(company)"
   ]
  },
  {
   "cell_type": "code",
   "execution_count": 57,
   "metadata": {},
   "outputs": [
    {
     "name": "stdout",
     "output_type": "stream",
     "text": [
      "[5, 4, 3, 2, 1]\n",
      "[5, 4, 3, 2, 1]\n"
     ]
    }
   ],
   "source": [
    "p=[1,2,3,4,5]\n",
    "o=[1,2,3,4,5]\n",
    "p.reverse()\n",
    "print(o[::-1])\n",
    "print(p)"
   ]
  },
  {
   "cell_type": "code",
   "execution_count": 58,
   "metadata": {},
   "outputs": [
    {
     "name": "stdout",
     "output_type": "stream",
     "text": [
      "[1, 2, 3, 4, 5]\n",
      "[1, 2, 3, 4, 5]\n"
     ]
    }
   ],
   "source": [
    "p.sort()\n",
    "sorted(o)\n",
    "print(p)\n",
    "print(o)"
   ]
  },
  {
   "cell_type": "markdown",
   "metadata": {},
   "source": [
    "#### Other Operations"
   ]
  },
  {
   "cell_type": "code",
   "execution_count": 61,
   "metadata": {},
   "outputs": [
    {
     "name": "stdout",
     "output_type": "stream",
     "text": [
      "6\n"
     ]
    }
   ],
   "source": [
    "print(sum(l))"
   ]
  },
  {
   "cell_type": "code",
   "execution_count": 62,
   "metadata": {},
   "outputs": [
    {
     "name": "stdout",
     "output_type": "stream",
     "text": [
      "[1, 2, 3, 4, 5, 1, 2, 3, 4, 5, 1, 2, 3, 4, 5]\n"
     ]
    }
   ],
   "source": [
    "p=p*3\n",
    "print(p)"
   ]
  },
  {
   "cell_type": "code",
   "execution_count": 70,
   "metadata": {},
   "outputs": [
    {
     "name": "stdout",
     "output_type": "stream",
     "text": [
      "prints all -  [1, 2, 3, 4, 5, 1, 2, 3, 4, 5, 1, 2, 3, 4, 5]\n",
      "prints first 5 -  [1, 2, 3, 4, 5]\n",
      "prints last 5 -  [1, 2, 3, 4, 5]\n",
      "prints any -  [3, 4, 5, 1]\n"
     ]
    }
   ],
   "source": [
    "print('prints all - ', p[:])\n",
    "print('prints first 5 - ',p[:5])\n",
    "print('prints last 5 - ',p[-5:])\n",
    "print('prints any - ',p[2:6])"
   ]
  },
  {
   "cell_type": "markdown",
   "metadata": {},
   "source": [
    "## Sets\n",
    "A Set is an unordered collection data type that is iterable, mutable, and has no duplicate elements. Python's set class represents the mathematical notion of a set.This is based on a data structure known as a **hash table**."
   ]
  },
  {
   "cell_type": "code",
   "execution_count": 71,
   "metadata": {},
   "outputs": [
    {
     "name": "stdout",
     "output_type": "stream",
     "text": [
      "set()\n"
     ]
    }
   ],
   "source": [
    "s= set()\n",
    "print(s)"
   ]
  },
  {
   "cell_type": "code",
   "execution_count": 72,
   "metadata": {},
   "outputs": [
    {
     "name": "stdout",
     "output_type": "stream",
     "text": [
      "<class 'set'>\n"
     ]
    }
   ],
   "source": [
    "print(type(s))"
   ]
  },
  {
   "cell_type": "code",
   "execution_count": 76,
   "metadata": {},
   "outputs": [
    {
     "name": "stdout",
     "output_type": "stream",
     "text": [
      "{1, 2, 3, 4, 5, 6, 7, 8, 9, 10}\n"
     ]
    }
   ],
   "source": [
    "numbers={1,2,3,4,5,5,5,5,5,6,6,6,6,7,7,8,8,8,8,9,9,10}\n",
    "print(numbers)"
   ]
  },
  {
   "cell_type": "markdown",
   "metadata": {},
   "source": [
    "### Set Methods\n",
    "<ol>\n",
    "    <li>add()\tAdds an element to the set</li>\n",
    "      <li>clear()\tRemoves all the elements from the set</li>\n",
    "    <li>copy()\tReturns a copy of the set</li>\n",
    "    <li>difference()\tReturns a set containing the difference between two or more sets</li>\n",
    "<li>difference_update()\tRemoves the items in this set that are also included in another, specified set</li>\n",
    "    <li>discard()\tRemove the specified item</li>\n",
    "    <li>intersection()\tReturns a set, that is the intersection of two other sets</li>\n",
    "<li>intersection_update()\tRemoves the items in this set that are not present in other, specified set(s)</li>\n",
    "    <li>isdisjoint()\tReturns whether two sets have a intersection or not</li>\n",
    "    <li>issubset()\tReturns whether another set contains this set or not</li>\n",
    "    <li>issuperset()\tReturns whether this set contains another set or not</li>\n",
    "    <li>pop()\tRemoves an element from the set</li>\n",
    "    <li>remove()\tRemoves the specified element</li>\n",
    "    <li>symmetric_difference()\tReturns a set with the symmetric differences of two sets</li>\n",
    "    <li>symmetric_difference_update()\tinserts the symmetric differences from this set and another</li>\n",
    "    <li>union()\tReturn a set containing the union of sets</li>\n",
    "    <li>update()\tUpdate the set with the union of this set and others</li>\n",
    "</ol>   "
   ]
  },
  {
   "cell_type": "code",
   "execution_count": 79,
   "metadata": {},
   "outputs": [
    {
     "name": "stdout",
     "output_type": "stream",
     "text": [
      "{'rose', 'jasmine', 'sunflower', 'lotus'}\n"
     ]
    }
   ],
   "source": [
    "flower={'rose', 'sunflower', 'lotus'}\n",
    "flower.add('jasmine')\n",
    "print(flower)"
   ]
  },
  {
   "cell_type": "code",
   "execution_count": 80,
   "metadata": {},
   "outputs": [
    {
     "name": "stdout",
     "output_type": "stream",
     "text": [
      "set()\n"
     ]
    }
   ],
   "source": [
    "flower.clear()\n",
    "print(flower)"
   ]
  },
  {
   "cell_type": "code",
   "execution_count": 83,
   "metadata": {},
   "outputs": [
    {
     "name": "stdout",
     "output_type": "stream",
     "text": [
      "{'rose', 'sunflower', 'lotus'}\n"
     ]
    }
   ],
   "source": [
    "flower={'rose', 'sunflower', 'lotus'}\n",
    "flower_clone=flower.copy()\n",
    "print(flower_clone)"
   ]
  },
  {
   "cell_type": "code",
   "execution_count": 100,
   "metadata": {},
   "outputs": [
    {
     "data": {
      "text/plain": [
       "{3}"
      ]
     },
     "execution_count": 100,
     "metadata": {},
     "output_type": "execute_result"
    }
   ],
   "source": [
    "set1={1,2,4,5}\n",
    "set2={1,2,3,4,5}\n",
    "set2.difference(set1)"
   ]
  },
  {
   "cell_type": "code",
   "execution_count": 111,
   "metadata": {},
   "outputs": [],
   "source": [
    "set_company1={'microsoft','google','facebook'}\n",
    "set_company2={'apple', 'infosys', 'google'}\n",
    "set_company1.difference_update(set_company2)"
   ]
  },
  {
   "cell_type": "code",
   "execution_count": 115,
   "metadata": {},
   "outputs": [
    {
     "data": {
      "text/plain": [
       "{'facebook', 'microsoft'}"
      ]
     },
     "execution_count": 115,
     "metadata": {},
     "output_type": "execute_result"
    }
   ],
   "source": [
    "set_company1"
   ]
  },
  {
   "cell_type": "code",
   "execution_count": 117,
   "metadata": {},
   "outputs": [
    {
     "data": {
      "text/plain": [
       "{'apple', 'google', 'infosys'}"
      ]
     },
     "execution_count": 117,
     "metadata": {},
     "output_type": "execute_result"
    }
   ],
   "source": [
    "set_company2"
   ]
  },
  {
   "cell_type": "code",
   "execution_count": 118,
   "metadata": {},
   "outputs": [
    {
     "name": "stdout",
     "output_type": "stream",
     "text": [
      "{'google', 'infosys'}\n"
     ]
    }
   ],
   "source": [
    "set_company2.discard('apple')\n",
    "print(set_company2)"
   ]
  },
  {
   "cell_type": "code",
   "execution_count": 120,
   "metadata": {},
   "outputs": [
    {
     "name": "stdout",
     "output_type": "stream",
     "text": [
      "{2}\n"
     ]
    }
   ],
   "source": [
    "x={1,2,3}\n",
    "y={4,2,6}\n",
    "z=x.intersection(y)\n",
    "print(z)"
   ]
  },
  {
   "cell_type": "code",
   "execution_count": 123,
   "metadata": {},
   "outputs": [
    {
     "name": "stdout",
     "output_type": "stream",
     "text": [
      "{1}\n"
     ]
    }
   ],
   "source": [
    "a={1,2,3}\n",
    "b={1,5,6}\n",
    "a.intersection_update(b)\n",
    "print(a)"
   ]
  },
  {
   "cell_type": "code",
   "execution_count": 124,
   "metadata": {},
   "outputs": [
    {
     "name": "stdout",
     "output_type": "stream",
     "text": [
      "False\n"
     ]
    }
   ],
   "source": [
    "x={1,2,3}\n",
    "y={4,2,6}\n",
    "z = x.isdisjoint(y)\n",
    "print(z)"
   ]
  },
  {
   "cell_type": "code",
   "execution_count": 125,
   "metadata": {},
   "outputs": [
    {
     "name": "stdout",
     "output_type": "stream",
     "text": [
      "True\n"
     ]
    }
   ],
   "source": [
    "x = {'a','b','c'}\n",
    "y = {'d','e','f','c','b','a'}\n",
    "z = x.issubset(y)\n",
    "print(z)"
   ]
  },
  {
   "cell_type": "code",
   "execution_count": 126,
   "metadata": {},
   "outputs": [
    {
     "name": "stdout",
     "output_type": "stream",
     "text": [
      "True\n"
     ]
    }
   ],
   "source": [
    "y = {'a','b','c'}\n",
    "x = {'d','e','f','c','b','a'}\n",
    "z = x.issuperset(y)\n",
    "print(z)"
   ]
  },
  {
   "cell_type": "code",
   "execution_count": 127,
   "metadata": {},
   "outputs": [
    {
     "name": "stdout",
     "output_type": "stream",
     "text": [
      "{'apple', 'grapes'}\n"
     ]
    }
   ],
   "source": [
    "fruits = {\"apple\", \"banana\", \"grapes\"}\n",
    "fruits.pop()\n",
    "print(fruits)"
   ]
  },
  {
   "cell_type": "code",
   "execution_count": 129,
   "metadata": {},
   "outputs": [
    {
     "name": "stdout",
     "output_type": "stream",
     "text": [
      "{'grapes'}\n"
     ]
    }
   ],
   "source": [
    "fruits.remove(\"apple\")\n",
    "print(fruits)"
   ]
  },
  {
   "cell_type": "code",
   "execution_count": 132,
   "metadata": {},
   "outputs": [
    {
     "name": "stdout",
     "output_type": "stream",
     "text": [
      "{'banana', 'facebook', 'google', 'grapes'}\n"
     ]
    }
   ],
   "source": [
    "x = {\"apple\", \"banana\", \"grapes\"}\n",
    "y = {\"google\", \"facebook\", \"apple\"}\n",
    "z = x.symmetric_difference(y)\n",
    "print(z)"
   ]
  },
  {
   "cell_type": "code",
   "execution_count": 133,
   "metadata": {},
   "outputs": [
    {
     "name": "stdout",
     "output_type": "stream",
     "text": [
      "{'banana', 'facebook', 'google', 'graps'}\n"
     ]
    }
   ],
   "source": [
    "x = {\"apple\", \"banana\", \"graps\"}\n",
    "y = {\"google\", \"facebook\", \"apple\"}\n",
    "x.symmetric_difference_update(y)\n",
    "print(x)"
   ]
  },
  {
   "cell_type": "code",
   "execution_count": 134,
   "metadata": {},
   "outputs": [
    {
     "name": "stdout",
     "output_type": "stream",
     "text": [
      "{'apple', 'banana', 'graps', 'facebook', 'google'}\n"
     ]
    }
   ],
   "source": [
    "x = {\"apple\", \"banana\", \"graps\"}\n",
    "y = {\"google\", \"facebook\", \"apple\"}\n",
    "z = x.union(y)\n",
    "print(z)"
   ]
  },
  {
   "cell_type": "code",
   "execution_count": 135,
   "metadata": {},
   "outputs": [
    {
     "name": "stdout",
     "output_type": "stream",
     "text": [
      "{'apple', 'banana', 'graps', 'facebook', 'google'}\n"
     ]
    }
   ],
   "source": [
    "x = {\"apple\", \"banana\", \"graps\"}\n",
    "y = {\"google\", \"facebook\", \"apple\"}\n",
    "x.update(y)\n",
    "print(x)"
   ]
  },
  {
   "cell_type": "markdown",
   "metadata": {},
   "source": [
    "#### Other Operations"
   ]
  },
  {
   "cell_type": "code",
   "execution_count": 145,
   "metadata": {},
   "outputs": [
    {
     "name": "stdout",
     "output_type": "stream",
     "text": [
      "5\n"
     ]
    }
   ],
   "source": [
    "print(len(x))"
   ]
  },
  {
   "cell_type": "code",
   "execution_count": 146,
   "metadata": {},
   "outputs": [
    {
     "name": "stdout",
     "output_type": "stream",
     "text": [
      "6\n"
     ]
    }
   ],
   "source": [
    "x={1,2,3}\n",
    "print(sum(x))"
   ]
  },
  {
   "cell_type": "code",
   "execution_count": 152,
   "metadata": {},
   "outputs": [
    {
     "name": "stdout",
     "output_type": "stream",
     "text": [
      "[1, 2, 3, 4, 6, 8]\n"
     ]
    }
   ],
   "source": [
    "y={3,4,8,1,2,6}\n",
    "print(sorted(y))"
   ]
  },
  {
   "cell_type": "markdown",
   "metadata": {},
   "source": [
    "## Tuple\n",
    "A tuple is a collection of objects which ordered and immutable. Tuples are sequences, just like lists. The differences between tuples and lists are, the tuples cannot be changed unlike lists and tuples use parentheses (),  whereas lists use square brackets [ ]."
   ]
  },
  {
   "cell_type": "code",
   "execution_count": 137,
   "metadata": {},
   "outputs": [
    {
     "name": "stdout",
     "output_type": "stream",
     "text": [
      "()\n"
     ]
    }
   ],
   "source": [
    "t=tuple()\n",
    "print(t)"
   ]
  },
  {
   "cell_type": "code",
   "execution_count": 140,
   "metadata": {},
   "outputs": [
    {
     "data": {
      "text/plain": [
       "tuple"
      ]
     },
     "execution_count": 140,
     "metadata": {},
     "output_type": "execute_result"
    }
   ],
   "source": [
    "t1=()\n",
    "type(t1)"
   ]
  },
  {
   "cell_type": "code",
   "execution_count": 138,
   "metadata": {},
   "outputs": [
    {
     "data": {
      "text/plain": [
       "tuple"
      ]
     },
     "execution_count": 138,
     "metadata": {},
     "output_type": "execute_result"
    }
   ],
   "source": [
    "type(t)"
   ]
  },
  {
   "cell_type": "code",
   "execution_count": 139,
   "metadata": {},
   "outputs": [
    {
     "name": "stdout",
     "output_type": "stream",
     "text": [
      "('a', 'e', 'i', 'o', 'u')\n"
     ]
    }
   ],
   "source": [
    "t=('a','e','i','o','u')\n",
    "print(t)"
   ]
  },
  {
   "cell_type": "markdown",
   "metadata": {},
   "source": [
    "### Tuple Methods\n",
    "<ol>\n",
    "    <li>count()\tReturns the number of times a specified value occurs in a tuple</li>\n",
    "     <li>index()  Searches the tuple for a specified value and returns the position of where it was found</li>\n",
    "</ol>    "
   ]
  },
  {
   "cell_type": "code",
   "execution_count": 141,
   "metadata": {},
   "outputs": [
    {
     "name": "stdout",
     "output_type": "stream",
     "text": [
      "3\n"
     ]
    }
   ],
   "source": [
    "t=('a','e','i','o','u','a','t','e','u','g','a')\n",
    "print(t.count('a'))"
   ]
  },
  {
   "cell_type": "code",
   "execution_count": 144,
   "metadata": {},
   "outputs": [
    {
     "name": "stdout",
     "output_type": "stream",
     "text": [
      "1\n"
     ]
    }
   ],
   "source": [
    "print(t.index('e'))"
   ]
  },
  {
   "cell_type": "markdown",
   "metadata": {},
   "source": [
    "#### Other Operations"
   ]
  },
  {
   "cell_type": "code",
   "execution_count": 154,
   "metadata": {},
   "outputs": [
    {
     "name": "stdout",
     "output_type": "stream",
     "text": [
      "11\n"
     ]
    }
   ],
   "source": [
    "print(len(t))"
   ]
  },
  {
   "cell_type": "code",
   "execution_count": 155,
   "metadata": {},
   "outputs": [
    {
     "name": "stdout",
     "output_type": "stream",
     "text": [
      "('a', 'e', 'i', 'o', 'u', 'a', 't', 'e', 'u', 'g', 'a', 'a', 'e', 'i', 'o', 'u', 'a', 't', 'e', 'u', 'g', 'a', 'a', 'e', 'i', 'o', 'u', 'a', 't', 'e', 'u', 'g', 'a')\n"
     ]
    }
   ],
   "source": [
    "print(t*3)"
   ]
  },
  {
   "cell_type": "code",
   "execution_count": 157,
   "metadata": {},
   "outputs": [
    {
     "name": "stdout",
     "output_type": "stream",
     "text": [
      "12\n"
     ]
    }
   ],
   "source": [
    "g=(1,5,6)\n",
    "print(sum(g))"
   ]
  },
  {
   "cell_type": "code",
   "execution_count": 160,
   "metadata": {},
   "outputs": [
    {
     "name": "stdout",
     "output_type": "stream",
     "text": [
      "[1, 2, 3, 5, 6, 7, 8, 9, 9]\n"
     ]
    }
   ],
   "source": [
    "tup=(9,7,5,9,3,2,6,8,1)\n",
    "print(sorted(tup))"
   ]
  },
  {
   "cell_type": "markdown",
   "metadata": {},
   "source": [
    "## Dictionary\n",
    "A dictionary is a collection which is unordered, changeable and indexed. In Python dictionaries are written with curly brackets, and they have keys and values."
   ]
  },
  {
   "cell_type": "code",
   "execution_count": 161,
   "metadata": {},
   "outputs": [
    {
     "name": "stdout",
     "output_type": "stream",
     "text": [
      "{}\n"
     ]
    }
   ],
   "source": [
    "dic={}\n",
    "print(dic)"
   ]
  },
  {
   "cell_type": "code",
   "execution_count": 164,
   "metadata": {},
   "outputs": [
    {
     "name": "stdout",
     "output_type": "stream",
     "text": [
      "<class 'dict'>\n"
     ]
    }
   ],
   "source": [
    "print(type(dic))"
   ]
  },
  {
   "cell_type": "code",
   "execution_count": 167,
   "metadata": {},
   "outputs": [
    {
     "name": "stdout",
     "output_type": "stream",
     "text": [
      "<class 'dict'>\n"
     ]
    }
   ],
   "source": [
    "dic=dict()\n",
    "print(type(dic))"
   ]
  },
  {
   "cell_type": "code",
   "execution_count": 168,
   "metadata": {},
   "outputs": [],
   "source": [
    "dic={}"
   ]
  },
  {
   "cell_type": "markdown",
   "metadata": {},
   "source": [
    "### Dictionary Methods\n",
    "<ol>\n",
    "    <li>clear()\tRemoves all the elements from the dictionary</li>\n",
    "    <li>copy()\tReturns a copy of the dictionary</li>\n",
    "    <li>fromkeys()\tReturns a dictionary with the specified keys and value</li>\n",
    "    <li>get()\tReturns the value of the specified key</li>\n",
    "    <li>items()\tReturns a list containing a tuple for each key value pair</li>\n",
    "    <li>keys()\tReturns a list containing the dictionary's keys</li>\n",
    "<li>pop()\tRemoves the element with the specified key</li>\n",
    "<li>popitem()\tRemoves the last inserted key-value pair</li>\n",
    "<li>setdefault()\tReturns the value of the specified key. If the key does not exist: insert the key, with the specified value</li>\n",
    "<li>update()\tUpdates the dictionary with the specified key-value pairs</li>\n",
    "<li>values()\tReturns a list of all the values in the dictionary</li>\n",
    "</ol> "
   ]
  },
  {
   "cell_type": "code",
   "execution_count": 169,
   "metadata": {},
   "outputs": [
    {
     "name": "stdout",
     "output_type": "stream",
     "text": [
      "{}\n"
     ]
    }
   ],
   "source": [
    "details = {\n",
    "  \"name\": \"AM\",\n",
    "  \"age\": 18\n",
    "}\n",
    "details.clear()\n",
    "print(details)"
   ]
  },
  {
   "cell_type": "code",
   "execution_count": 182,
   "metadata": {},
   "outputs": [
    {
     "name": "stdout",
     "output_type": "stream",
     "text": [
      "{'name': 'AM', 'age': 18}\n"
     ]
    }
   ],
   "source": [
    "details = {\n",
    "  \"name\": \"AM\",\n",
    "  \"age\": 18\n",
    "}\n",
    "details_clone=details.copy()\n",
    "print(details_clone)"
   ]
  },
  {
   "cell_type": "code",
   "execution_count": 173,
   "metadata": {},
   "outputs": [
    {
     "name": "stdout",
     "output_type": "stream",
     "text": [
      "{'k1': 0, 'k2': 0, 'k3': 0}\n"
     ]
    }
   ],
   "source": [
    "x = ('k1', 'k2', 'k3')\n",
    "y = 0\n",
    "dic = dict.fromkeys(x, y)\n",
    "print(dic)"
   ]
  },
  {
   "cell_type": "code",
   "execution_count": 178,
   "metadata": {},
   "outputs": [
    {
     "name": "stdout",
     "output_type": "stream",
     "text": [
      "AM\n"
     ]
    }
   ],
   "source": [
    "print(details.get('name'))"
   ]
  },
  {
   "cell_type": "code",
   "execution_count": 175,
   "metadata": {},
   "outputs": [
    {
     "name": "stdout",
     "output_type": "stream",
     "text": [
      "dict_items([('name', 'AM'), ('age', 18)])\n"
     ]
    }
   ],
   "source": [
    "print(details.items())"
   ]
  },
  {
   "cell_type": "code",
   "execution_count": 179,
   "metadata": {},
   "outputs": [
    {
     "name": "stdout",
     "output_type": "stream",
     "text": [
      "dict_keys(['name', 'age'])\n"
     ]
    }
   ],
   "source": [
    "print(details.keys())"
   ]
  },
  {
   "cell_type": "code",
   "execution_count": 183,
   "metadata": {},
   "outputs": [
    {
     "name": "stdout",
     "output_type": "stream",
     "text": [
      "{'name': 'AM'}\n"
     ]
    }
   ],
   "source": [
    "details.pop('age')\n",
    "print(details)"
   ]
  },
  {
   "cell_type": "code",
   "execution_count": 184,
   "metadata": {},
   "outputs": [
    {
     "name": "stdout",
     "output_type": "stream",
     "text": [
      "{'name': 'AM'}\n"
     ]
    }
   ],
   "source": [
    "details = {\n",
    "  \"name\": \"AM\",\n",
    "  \"age\": 18\n",
    "}\n",
    "details.popitem()\n",
    "print(details)"
   ]
  },
  {
   "cell_type": "code",
   "execution_count": 185,
   "metadata": {},
   "outputs": [
    {
     "name": "stdout",
     "output_type": "stream",
     "text": [
      "AM\n"
     ]
    }
   ],
   "source": [
    "details = {\n",
    "    \"name\": \"AM\",\n",
    "    \"age\": 18,\n",
    "    \"company\": \"AMtudio\"\n",
    "}\n",
    "x = details.setdefault(\"name\", \"AM\")\n",
    "print(x)"
   ]
  },
  {
   "cell_type": "code",
   "execution_count": 186,
   "metadata": {},
   "outputs": [
    {
     "name": "stdout",
     "output_type": "stream",
     "text": [
      "{'name': 'AM', 'age': 18, 'company': 'AMtudio', 'position': 'Founder'}\n"
     ]
    }
   ],
   "source": [
    "details.update({\"position\": \"Founder\"})\n",
    "print(details)"
   ]
  },
  {
   "cell_type": "code",
   "execution_count": 188,
   "metadata": {},
   "outputs": [
    {
     "name": "stdout",
     "output_type": "stream",
     "text": [
      "dict_values(['AM', 18, 'AMtudio', 'Founder'])\n"
     ]
    }
   ],
   "source": [
    "print(details.values())"
   ]
  },
  {
   "cell_type": "markdown",
   "metadata": {},
   "source": [
    "#### Other Operations"
   ]
  },
  {
   "cell_type": "code",
   "execution_count": 190,
   "metadata": {},
   "outputs": [
    {
     "name": "stdout",
     "output_type": "stream",
     "text": [
      "4\n"
     ]
    }
   ],
   "source": [
    "print(len(details))"
   ]
  },
  {
   "cell_type": "code",
   "execution_count": 196,
   "metadata": {},
   "outputs": [
    {
     "name": "stdout",
     "output_type": "stream",
     "text": [
      "{'car1': {'Mercedes': 1960}, 'car2': {'Audi': 1970}, 'car3': {'Ambassador': 1980}}\n",
      "{'Mercedes': 1960}\n",
      "1960\n"
     ]
    }
   ],
   "source": [
    "car1_model={'Mercedes':1960}\n",
    "car2_model={'Audi':1970}\n",
    "car3_model={'Ambassador':1980}\n",
    "car_type={'car1':car1_model,'car2':car2_model,'car3':car3_model}\n",
    "print(car_type)\n",
    "print(car_type['car1'])\n",
    "print(car_type['car1']['Mercedes'])"
   ]
  },
  {
   "cell_type": "markdown",
   "metadata": {},
   "source": [
    "# Happy Coding\n",
    "## Thank You"
   ]
  }
 ],
 "metadata": {
  "kernelspec": {
   "display_name": "Python 3",
   "language": "python",
   "name": "python3"
  },
  "language_info": {
   "codemirror_mode": {
    "name": "ipython",
    "version": 3
   },
   "file_extension": ".py",
   "mimetype": "text/x-python",
   "name": "python",
   "nbconvert_exporter": "python",
   "pygments_lexer": "ipython3",
   "version": "3.7.6"
  }
 },
 "nbformat": 4,
 "nbformat_minor": 4
}
